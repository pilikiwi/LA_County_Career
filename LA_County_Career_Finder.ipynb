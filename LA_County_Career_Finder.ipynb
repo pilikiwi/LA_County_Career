{
  "cells": [
    {
      "cell_type": "code",
      "execution_count": null,
      "metadata": {
        "id": "T82KEdndtwik"
      },
      "outputs": [],
      "source": [
        "# @Load data and function\n",
        "import pandas as pd\n",
        "import plotly.express as px\n",
        "\n",
        "def analyze_position(df, target_job):\n",
        "    # Filter the DataFrame for target_job and 'Year' = 2022 for the most recent record\n",
        "    filtered_df = df[(df['Position_Title'] == target_job) & (df['Year'] == 2022)]\n",
        "\n",
        "    # Group by 'Department' and calculate the count of occurrences for the target job\n",
        "    count_by_department = filtered_df.groupby('Department').size().reset_index(name='Count')\n",
        "\n",
        "    # Sort the departments by count in descending order and select the top 10\n",
        "    top_10_departments = count_by_department.sort_values(by='Count', ascending=False).head(10)\n",
        "\n",
        "    # Create a treemap using Plotly Express\n",
        "    fig = px.treemap(top_10_departments, path=['Department'], values='Count', title=f'Top 10 Departments with {target_job} in 2022')\n",
        "    fig.show()\n",
        "\n",
        "    # Find the most recent previous position for each employee holding the target job\n",
        "    previous_positions = df[(df['Year'] < 2022) & (df['Employee_Key'].isin(filtered_df['Employee_Key'])) & (df['Position_Title'] != target_job)].groupby('Employee_Key').tail(1)\n",
        "\n",
        "    # Count occurrences of each previous position\n",
        "    job_grouped = previous_positions.groupby('Position_Title').size().reset_index(name='Count')\n",
        "\n",
        "    # Sort the positions by count in descending order and select the top 10\n",
        "    top_10_previous_positions = job_grouped.sort_values(by='Count', ascending=False).head(10)\n",
        "\n",
        "    # Create a bar chart using Plotly Express with modified x-axis label\n",
        "    fig = px.bar(top_10_previous_positions, x='Position_Title', y='Count', title=f'Top 10 Previous Positions of Employees Holding {target_job}')\n",
        "    fig.update_xaxes(title_text='Previous Position Titles')\n",
        "    fig.show()\n",
        "\n",
        "    # Group the data by year and count the occurrences of the target job position\n",
        "    target_job_counts = df[df['Position_Title'] == target_job].groupby('Year').size().reset_index(name='Total_Count')\n",
        "\n",
        "    # Display the table\n",
        "    print(f\"\\nTotal Number of Employees with {target_job} Position in Each Year:\\n\")\n",
        "    print(target_job_counts)\n",
        "\n",
        "# Load the data\n",
        "df = pd.read_csv(\"LA_County_Employee_Salaries_(Auditor-Controller).csv\").drop([\"Base_Earnings\", \"Overtime_Earnings\", \"Other_Earnings\", \"Leave_Time_Payouts\", \"Medical_Dental_Vision\", \"Retirement_Surcharge\", \"Pension_Contributions\", \"Deferred_Contributions\", \"LTD_Life_And_Medical_Tax\", \"Other_Benefits\", \"Total_Benefits\", \"Total_Compensation\", 'GlobalID', 'Employee_Name'], axis=1)\n",
        "df['Employee_Key'] = df['Employee_First_Name'] + df['Employee_Last_Name'] + df['Middle_Initial'].fillna('')\n",
        "\n"
      ]
    },
    {
      "cell_type": "code",
      "execution_count": null,
      "metadata": {
        "id": "eyWxrSyCuZGE"
      },
      "outputs": [],
      "source": [
        "# @Call the function with different target_job values.\n",
        "analyze_position(df, 'INFORMATION TECHNOLOGY SPECIALIST I')"
      ]
    }
  ],
  "metadata": {
    "colab": {
      "include_colab_link": true,
      "provenance": []
    },
    "kernelspec": {
      "display_name": "Python 3",
      "language": "python",
      "name": "python3"
    },
    "language_info": {
      "codemirror_mode": {
        "name": "ipython",
        "version": 3
      },
      "file_extension": ".py",
      "mimetype": "text/x-python",
      "name": "python",
      "nbconvert_exporter": "python",
      "pygments_lexer": "ipython3",
      "version": "3.11.5"
    }
  },
  "nbformat": 4,
  "nbformat_minor": 0
}
